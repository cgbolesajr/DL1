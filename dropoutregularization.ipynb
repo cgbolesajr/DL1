{
 "cells": [
  {
   "cell_type": "code",
   "execution_count": 1,
   "metadata": {},
   "outputs": [],
   "source": [
    "import numpy as np\n",
    "import matplotlib.pyplot as plt\n",
    "import pandas as pd\n",
    "import seaborn as sns"
   ]
  },
  {
   "cell_type": "code",
   "execution_count": 2,
   "metadata": {},
   "outputs": [
    {
     "data": {
      "text/html": [
       "<div>\n",
       "<style scoped>\n",
       "    .dataframe tbody tr th:only-of-type {\n",
       "        vertical-align: middle;\n",
       "    }\n",
       "\n",
       "    .dataframe tbody tr th {\n",
       "        vertical-align: top;\n",
       "    }\n",
       "\n",
       "    .dataframe thead th {\n",
       "        text-align: right;\n",
       "    }\n",
       "</style>\n",
       "<table border=\"1\" class=\"dataframe\">\n",
       "  <thead>\n",
       "    <tr style=\"text-align: right;\">\n",
       "      <th></th>\n",
       "      <th>0</th>\n",
       "      <th>1</th>\n",
       "      <th>2</th>\n",
       "      <th>3</th>\n",
       "      <th>4</th>\n",
       "      <th>5</th>\n",
       "      <th>6</th>\n",
       "      <th>7</th>\n",
       "      <th>8</th>\n",
       "      <th>9</th>\n",
       "      <th>...</th>\n",
       "      <th>51</th>\n",
       "      <th>52</th>\n",
       "      <th>53</th>\n",
       "      <th>54</th>\n",
       "      <th>55</th>\n",
       "      <th>56</th>\n",
       "      <th>57</th>\n",
       "      <th>58</th>\n",
       "      <th>59</th>\n",
       "      <th>60</th>\n",
       "    </tr>\n",
       "  </thead>\n",
       "  <tbody>\n",
       "    <tr>\n",
       "      <th>0</th>\n",
       "      <td>0.0200</td>\n",
       "      <td>0.0371</td>\n",
       "      <td>0.0428</td>\n",
       "      <td>0.0207</td>\n",
       "      <td>0.0954</td>\n",
       "      <td>0.0986</td>\n",
       "      <td>0.1539</td>\n",
       "      <td>0.1601</td>\n",
       "      <td>0.3109</td>\n",
       "      <td>0.2111</td>\n",
       "      <td>...</td>\n",
       "      <td>0.0027</td>\n",
       "      <td>0.0065</td>\n",
       "      <td>0.0159</td>\n",
       "      <td>0.0072</td>\n",
       "      <td>0.0167</td>\n",
       "      <td>0.0180</td>\n",
       "      <td>0.0084</td>\n",
       "      <td>0.0090</td>\n",
       "      <td>0.0032</td>\n",
       "      <td>R</td>\n",
       "    </tr>\n",
       "    <tr>\n",
       "      <th>1</th>\n",
       "      <td>0.0453</td>\n",
       "      <td>0.0523</td>\n",
       "      <td>0.0843</td>\n",
       "      <td>0.0689</td>\n",
       "      <td>0.1183</td>\n",
       "      <td>0.2583</td>\n",
       "      <td>0.2156</td>\n",
       "      <td>0.3481</td>\n",
       "      <td>0.3337</td>\n",
       "      <td>0.2872</td>\n",
       "      <td>...</td>\n",
       "      <td>0.0084</td>\n",
       "      <td>0.0089</td>\n",
       "      <td>0.0048</td>\n",
       "      <td>0.0094</td>\n",
       "      <td>0.0191</td>\n",
       "      <td>0.0140</td>\n",
       "      <td>0.0049</td>\n",
       "      <td>0.0052</td>\n",
       "      <td>0.0044</td>\n",
       "      <td>R</td>\n",
       "    </tr>\n",
       "    <tr>\n",
       "      <th>2</th>\n",
       "      <td>0.0262</td>\n",
       "      <td>0.0582</td>\n",
       "      <td>0.1099</td>\n",
       "      <td>0.1083</td>\n",
       "      <td>0.0974</td>\n",
       "      <td>0.2280</td>\n",
       "      <td>0.2431</td>\n",
       "      <td>0.3771</td>\n",
       "      <td>0.5598</td>\n",
       "      <td>0.6194</td>\n",
       "      <td>...</td>\n",
       "      <td>0.0232</td>\n",
       "      <td>0.0166</td>\n",
       "      <td>0.0095</td>\n",
       "      <td>0.0180</td>\n",
       "      <td>0.0244</td>\n",
       "      <td>0.0316</td>\n",
       "      <td>0.0164</td>\n",
       "      <td>0.0095</td>\n",
       "      <td>0.0078</td>\n",
       "      <td>R</td>\n",
       "    </tr>\n",
       "    <tr>\n",
       "      <th>3</th>\n",
       "      <td>0.0100</td>\n",
       "      <td>0.0171</td>\n",
       "      <td>0.0623</td>\n",
       "      <td>0.0205</td>\n",
       "      <td>0.0205</td>\n",
       "      <td>0.0368</td>\n",
       "      <td>0.1098</td>\n",
       "      <td>0.1276</td>\n",
       "      <td>0.0598</td>\n",
       "      <td>0.1264</td>\n",
       "      <td>...</td>\n",
       "      <td>0.0121</td>\n",
       "      <td>0.0036</td>\n",
       "      <td>0.0150</td>\n",
       "      <td>0.0085</td>\n",
       "      <td>0.0073</td>\n",
       "      <td>0.0050</td>\n",
       "      <td>0.0044</td>\n",
       "      <td>0.0040</td>\n",
       "      <td>0.0117</td>\n",
       "      <td>R</td>\n",
       "    </tr>\n",
       "    <tr>\n",
       "      <th>4</th>\n",
       "      <td>0.0762</td>\n",
       "      <td>0.0666</td>\n",
       "      <td>0.0481</td>\n",
       "      <td>0.0394</td>\n",
       "      <td>0.0590</td>\n",
       "      <td>0.0649</td>\n",
       "      <td>0.1209</td>\n",
       "      <td>0.2467</td>\n",
       "      <td>0.3564</td>\n",
       "      <td>0.4459</td>\n",
       "      <td>...</td>\n",
       "      <td>0.0031</td>\n",
       "      <td>0.0054</td>\n",
       "      <td>0.0105</td>\n",
       "      <td>0.0110</td>\n",
       "      <td>0.0015</td>\n",
       "      <td>0.0072</td>\n",
       "      <td>0.0048</td>\n",
       "      <td>0.0107</td>\n",
       "      <td>0.0094</td>\n",
       "      <td>R</td>\n",
       "    </tr>\n",
       "  </tbody>\n",
       "</table>\n",
       "<p>5 rows × 61 columns</p>\n",
       "</div>"
      ],
      "text/plain": [
       "       0       1       2       3       4       5       6       7       8   \\\n",
       "0  0.0200  0.0371  0.0428  0.0207  0.0954  0.0986  0.1539  0.1601  0.3109   \n",
       "1  0.0453  0.0523  0.0843  0.0689  0.1183  0.2583  0.2156  0.3481  0.3337   \n",
       "2  0.0262  0.0582  0.1099  0.1083  0.0974  0.2280  0.2431  0.3771  0.5598   \n",
       "3  0.0100  0.0171  0.0623  0.0205  0.0205  0.0368  0.1098  0.1276  0.0598   \n",
       "4  0.0762  0.0666  0.0481  0.0394  0.0590  0.0649  0.1209  0.2467  0.3564   \n",
       "\n",
       "       9   ...      51      52      53      54      55      56      57  \\\n",
       "0  0.2111  ...  0.0027  0.0065  0.0159  0.0072  0.0167  0.0180  0.0084   \n",
       "1  0.2872  ...  0.0084  0.0089  0.0048  0.0094  0.0191  0.0140  0.0049   \n",
       "2  0.6194  ...  0.0232  0.0166  0.0095  0.0180  0.0244  0.0316  0.0164   \n",
       "3  0.1264  ...  0.0121  0.0036  0.0150  0.0085  0.0073  0.0050  0.0044   \n",
       "4  0.4459  ...  0.0031  0.0054  0.0105  0.0110  0.0015  0.0072  0.0048   \n",
       "\n",
       "       58      59  60  \n",
       "0  0.0090  0.0032   R  \n",
       "1  0.0052  0.0044   R  \n",
       "2  0.0095  0.0078   R  \n",
       "3  0.0040  0.0117   R  \n",
       "4  0.0107  0.0094   R  \n",
       "\n",
       "[5 rows x 61 columns]"
      ]
     },
     "execution_count": 2,
     "metadata": {},
     "output_type": "execute_result"
    }
   ],
   "source": [
    "df = pd.read_csv('d:/jupyter/datasets/sonar_dataset.csv', header=None)\n",
    "df.head()"
   ]
  },
  {
   "cell_type": "code",
   "execution_count": 3,
   "metadata": {},
   "outputs": [
    {
     "data": {
      "text/plain": [
       "(208, 61)"
      ]
     },
     "execution_count": 3,
     "metadata": {},
     "output_type": "execute_result"
    }
   ],
   "source": [
    "df.shape"
   ]
  },
  {
   "cell_type": "code",
   "execution_count": 4,
   "metadata": {},
   "outputs": [
    {
     "data": {
      "text/plain": [
       "0     0\n",
       "1     0\n",
       "2     0\n",
       "3     0\n",
       "4     0\n",
       "     ..\n",
       "56    0\n",
       "57    0\n",
       "58    0\n",
       "59    0\n",
       "60    0\n",
       "Length: 61, dtype: int64"
      ]
     },
     "execution_count": 4,
     "metadata": {},
     "output_type": "execute_result"
    }
   ],
   "source": [
    "df.isna().sum()"
   ]
  },
  {
   "cell_type": "code",
   "execution_count": 5,
   "metadata": {},
   "outputs": [
    {
     "name": "stdout",
     "output_type": "stream",
     "text": [
      "<class 'pandas.core.frame.DataFrame'>\n",
      "RangeIndex: 208 entries, 0 to 207\n",
      "Data columns (total 61 columns):\n",
      " #   Column  Non-Null Count  Dtype  \n",
      "---  ------  --------------  -----  \n",
      " 0   0       208 non-null    float64\n",
      " 1   1       208 non-null    float64\n",
      " 2   2       208 non-null    float64\n",
      " 3   3       208 non-null    float64\n",
      " 4   4       208 non-null    float64\n",
      " 5   5       208 non-null    float64\n",
      " 6   6       208 non-null    float64\n",
      " 7   7       208 non-null    float64\n",
      " 8   8       208 non-null    float64\n",
      " 9   9       208 non-null    float64\n",
      " 10  10      208 non-null    float64\n",
      " 11  11      208 non-null    float64\n",
      " 12  12      208 non-null    float64\n",
      " 13  13      208 non-null    float64\n",
      " 14  14      208 non-null    float64\n",
      " 15  15      208 non-null    float64\n",
      " 16  16      208 non-null    float64\n",
      " 17  17      208 non-null    float64\n",
      " 18  18      208 non-null    float64\n",
      " 19  19      208 non-null    float64\n",
      " 20  20      208 non-null    float64\n",
      " 21  21      208 non-null    float64\n",
      " 22  22      208 non-null    float64\n",
      " 23  23      208 non-null    float64\n",
      " 24  24      208 non-null    float64\n",
      " 25  25      208 non-null    float64\n",
      " 26  26      208 non-null    float64\n",
      " 27  27      208 non-null    float64\n",
      " 28  28      208 non-null    float64\n",
      " 29  29      208 non-null    float64\n",
      " 30  30      208 non-null    float64\n",
      " 31  31      208 non-null    float64\n",
      " 32  32      208 non-null    float64\n",
      " 33  33      208 non-null    float64\n",
      " 34  34      208 non-null    float64\n",
      " 35  35      208 non-null    float64\n",
      " 36  36      208 non-null    float64\n",
      " 37  37      208 non-null    float64\n",
      " 38  38      208 non-null    float64\n",
      " 39  39      208 non-null    float64\n",
      " 40  40      208 non-null    float64\n",
      " 41  41      208 non-null    float64\n",
      " 42  42      208 non-null    float64\n",
      " 43  43      208 non-null    float64\n",
      " 44  44      208 non-null    float64\n",
      " 45  45      208 non-null    float64\n",
      " 46  46      208 non-null    float64\n",
      " 47  47      208 non-null    float64\n",
      " 48  48      208 non-null    float64\n",
      " 49  49      208 non-null    float64\n",
      " 50  50      208 non-null    float64\n",
      " 51  51      208 non-null    float64\n",
      " 52  52      208 non-null    float64\n",
      " 53  53      208 non-null    float64\n",
      " 54  54      208 non-null    float64\n",
      " 55  55      208 non-null    float64\n",
      " 56  56      208 non-null    float64\n",
      " 57  57      208 non-null    float64\n",
      " 58  58      208 non-null    float64\n",
      " 59  59      208 non-null    float64\n",
      " 60  60      208 non-null    object \n",
      "dtypes: float64(60), object(1)\n",
      "memory usage: 99.2+ KB\n"
     ]
    }
   ],
   "source": [
    "df.info()"
   ]
  },
  {
   "cell_type": "code",
   "execution_count": 6,
   "metadata": {},
   "outputs": [
    {
     "data": {
      "text/plain": [
       "Int64Index([ 0,  1,  2,  3,  4,  5,  6,  7,  8,  9, 10, 11, 12, 13, 14, 15, 16,\n",
       "            17, 18, 19, 20, 21, 22, 23, 24, 25, 26, 27, 28, 29, 30, 31, 32, 33,\n",
       "            34, 35, 36, 37, 38, 39, 40, 41, 42, 43, 44, 45, 46, 47, 48, 49, 50,\n",
       "            51, 52, 53, 54, 55, 56, 57, 58, 59, 60],\n",
       "           dtype='int64')"
      ]
     },
     "execution_count": 6,
     "metadata": {},
     "output_type": "execute_result"
    }
   ],
   "source": [
    "df.columns         # 60 is the target"
   ]
  },
  {
   "cell_type": "code",
   "execution_count": 7,
   "metadata": {},
   "outputs": [
    {
     "data": {
      "text/plain": [
       "M    111\n",
       "R     97\n",
       "Name: 60, dtype: int64"
      ]
     },
     "execution_count": 7,
     "metadata": {},
     "output_type": "execute_result"
    }
   ],
   "source": [
    "df[60].value_counts()"
   ]
  },
  {
   "cell_type": "code",
   "execution_count": 8,
   "metadata": {},
   "outputs": [],
   "source": [
    "x = df.drop(60, axis='columns')\n",
    "y = df[60]"
   ]
  },
  {
   "cell_type": "code",
   "execution_count": 9,
   "metadata": {},
   "outputs": [
    {
     "data": {
      "text/html": [
       "<div>\n",
       "<style scoped>\n",
       "    .dataframe tbody tr th:only-of-type {\n",
       "        vertical-align: middle;\n",
       "    }\n",
       "\n",
       "    .dataframe tbody tr th {\n",
       "        vertical-align: top;\n",
       "    }\n",
       "\n",
       "    .dataframe thead th {\n",
       "        text-align: right;\n",
       "    }\n",
       "</style>\n",
       "<table border=\"1\" class=\"dataframe\">\n",
       "  <thead>\n",
       "    <tr style=\"text-align: right;\">\n",
       "      <th></th>\n",
       "      <th>R</th>\n",
       "    </tr>\n",
       "  </thead>\n",
       "  <tbody>\n",
       "    <tr>\n",
       "      <th>114</th>\n",
       "      <td>0</td>\n",
       "    </tr>\n",
       "    <tr>\n",
       "      <th>55</th>\n",
       "      <td>1</td>\n",
       "    </tr>\n",
       "    <tr>\n",
       "      <th>112</th>\n",
       "      <td>0</td>\n",
       "    </tr>\n",
       "    <tr>\n",
       "      <th>122</th>\n",
       "      <td>0</td>\n",
       "    </tr>\n",
       "    <tr>\n",
       "      <th>71</th>\n",
       "      <td>1</td>\n",
       "    </tr>\n",
       "  </tbody>\n",
       "</table>\n",
       "</div>"
      ],
      "text/plain": [
       "     R\n",
       "114  0\n",
       "55   1\n",
       "112  0\n",
       "122  0\n",
       "71   1"
      ]
     },
     "execution_count": 9,
     "metadata": {},
     "output_type": "execute_result"
    }
   ],
   "source": [
    "y= pd.get_dummies(y,drop_first=True)\n",
    "y.sample(5)"
   ]
  },
  {
   "cell_type": "code",
   "execution_count": 10,
   "metadata": {},
   "outputs": [
    {
     "data": {
      "text/plain": [
       "R\n",
       "0    111\n",
       "1     97\n",
       "dtype: int64"
      ]
     },
     "execution_count": 10,
     "metadata": {},
     "output_type": "execute_result"
    }
   ],
   "source": [
    "y.value_counts()"
   ]
  },
  {
   "cell_type": "code",
   "execution_count": 11,
   "metadata": {},
   "outputs": [],
   "source": [
    "from sklearn.model_selection import train_test_split\n",
    "x_train, x_test, y_train, y_test = train_test_split(x,y,test_size=0.2, random_state=1)"
   ]
  },
  {
   "cell_type": "code",
   "execution_count": 12,
   "metadata": {},
   "outputs": [
    {
     "data": {
      "text/plain": [
       "(166, 60)"
      ]
     },
     "execution_count": 12,
     "metadata": {},
     "output_type": "execute_result"
    }
   ],
   "source": [
    "x_train.shape"
   ]
  },
  {
   "cell_type": "code",
   "execution_count": 13,
   "metadata": {},
   "outputs": [
    {
     "data": {
      "text/plain": [
       "(42, 60)"
      ]
     },
     "execution_count": 13,
     "metadata": {},
     "output_type": "execute_result"
    }
   ],
   "source": [
    "x_test.shape"
   ]
  },
  {
   "cell_type": "code",
   "execution_count": 14,
   "metadata": {},
   "outputs": [],
   "source": [
    "import tensorflow as tf\n",
    "from tensorflow import keras"
   ]
  },
  {
   "cell_type": "code",
   "execution_count": 15,
   "metadata": {},
   "outputs": [
    {
     "name": "stdout",
     "output_type": "stream",
     "text": [
      "Epoch 1/100\n",
      "21/21 [==============================] - 8s 10ms/step - loss: 0.6711 - accuracy: 0.5482\n",
      "Epoch 2/100\n",
      "21/21 [==============================] - 0s 7ms/step - loss: 0.6562 - accuracy: 0.5482\n",
      "Epoch 3/100\n",
      "21/21 [==============================] - 0s 8ms/step - loss: 0.6283 - accuracy: 0.5723\n",
      "Epoch 4/100\n",
      "21/21 [==============================] - 0s 10ms/step - loss: 0.6070 - accuracy: 0.5843\n",
      "Epoch 5/100\n",
      "21/21 [==============================] - 0s 9ms/step - loss: 0.5766 - accuracy: 0.7289\n",
      "Epoch 6/100\n",
      "21/21 [==============================] - 0s 10ms/step - loss: 0.5619 - accuracy: 0.7771\n",
      "Epoch 7/100\n",
      "21/21 [==============================] - 0s 8ms/step - loss: 0.5202 - accuracy: 0.8012\n",
      "Epoch 8/100\n",
      "21/21 [==============================] - 0s 7ms/step - loss: 0.4890 - accuracy: 0.8072\n",
      "Epoch 9/100\n",
      "21/21 [==============================] - 0s 6ms/step - loss: 0.4431 - accuracy: 0.8373\n",
      "Epoch 10/100\n",
      "21/21 [==============================] - 0s 8ms/step - loss: 0.4103 - accuracy: 0.8675\n",
      "Epoch 11/100\n",
      "21/21 [==============================] - 0s 6ms/step - loss: 0.3916 - accuracy: 0.8735\n",
      "Epoch 12/100\n",
      "21/21 [==============================] - 0s 7ms/step - loss: 0.3717 - accuracy: 0.8373\n",
      "Epoch 13/100\n",
      "21/21 [==============================] - 0s 7ms/step - loss: 0.3615 - accuracy: 0.8133\n",
      "Epoch 14/100\n",
      "21/21 [==============================] - 0s 10ms/step - loss: 0.3572 - accuracy: 0.8675\n",
      "Epoch 15/100\n",
      "21/21 [==============================] - 0s 7ms/step - loss: 0.3709 - accuracy: 0.7771\n",
      "Epoch 16/100\n",
      "21/21 [==============================] - 0s 7ms/step - loss: 0.3160 - accuracy: 0.8916\n",
      "Epoch 17/100\n",
      "21/21 [==============================] - 0s 7ms/step - loss: 0.2871 - accuracy: 0.9036\n",
      "Epoch 18/100\n",
      "21/21 [==============================] - 0s 9ms/step - loss: 0.3380 - accuracy: 0.8373\n",
      "Epoch 19/100\n",
      "21/21 [==============================] - 0s 7ms/step - loss: 0.2904 - accuracy: 0.8916\n",
      "Epoch 20/100\n",
      "21/21 [==============================] - 0s 6ms/step - loss: 0.2941 - accuracy: 0.8795\n",
      "Epoch 21/100\n",
      "21/21 [==============================] - 0s 6ms/step - loss: 0.2407 - accuracy: 0.9217\n",
      "Epoch 22/100\n",
      "21/21 [==============================] - 0s 5ms/step - loss: 0.2531 - accuracy: 0.9157\n",
      "Epoch 23/100\n",
      "21/21 [==============================] - 0s 7ms/step - loss: 0.2249 - accuracy: 0.9096\n",
      "Epoch 24/100\n",
      "21/21 [==============================] - 0s 7ms/step - loss: 0.2167 - accuracy: 0.9337\n",
      "Epoch 25/100\n",
      "21/21 [==============================] - 0s 5ms/step - loss: 0.2083 - accuracy: 0.9337\n",
      "Epoch 26/100\n",
      "21/21 [==============================] - 0s 5ms/step - loss: 0.1863 - accuracy: 0.9458\n",
      "Epoch 27/100\n",
      "21/21 [==============================] - 0s 5ms/step - loss: 0.1849 - accuracy: 0.9398\n",
      "Epoch 28/100\n",
      "21/21 [==============================] - 0s 6ms/step - loss: 0.2003 - accuracy: 0.9036\n",
      "Epoch 29/100\n",
      "21/21 [==============================] - 0s 6ms/step - loss: 0.2087 - accuracy: 0.9157\n",
      "Epoch 30/100\n",
      "21/21 [==============================] - 0s 5ms/step - loss: 0.1476 - accuracy: 0.9518\n",
      "Epoch 31/100\n",
      "21/21 [==============================] - 0s 7ms/step - loss: 0.1467 - accuracy: 0.9518\n",
      "Epoch 32/100\n",
      "21/21 [==============================] - 0s 7ms/step - loss: 0.1765 - accuracy: 0.9277\n",
      "Epoch 33/100\n",
      "21/21 [==============================] - 0s 7ms/step - loss: 0.1521 - accuracy: 0.9639\n",
      "Epoch 34/100\n",
      "21/21 [==============================] - 0s 7ms/step - loss: 0.1704 - accuracy: 0.9157\n",
      "Epoch 35/100\n",
      "21/21 [==============================] - 0s 5ms/step - loss: 0.1421 - accuracy: 0.9458\n",
      "Epoch 36/100\n",
      "21/21 [==============================] - 0s 6ms/step - loss: 0.1172 - accuracy: 0.9699\n",
      "Epoch 37/100\n",
      "21/21 [==============================] - 0s 6ms/step - loss: 0.1050 - accuracy: 0.9759\n",
      "Epoch 38/100\n",
      "21/21 [==============================] - 0s 7ms/step - loss: 0.0994 - accuracy: 0.9759\n",
      "Epoch 39/100\n",
      "21/21 [==============================] - 0s 8ms/step - loss: 0.0904 - accuracy: 0.9759\n",
      "Epoch 40/100\n",
      "21/21 [==============================] - 0s 6ms/step - loss: 0.0968 - accuracy: 0.9699\n",
      "Epoch 41/100\n",
      "21/21 [==============================] - 0s 6ms/step - loss: 0.0897 - accuracy: 0.9819\n",
      "Epoch 42/100\n",
      "21/21 [==============================] - 0s 5ms/step - loss: 0.0789 - accuracy: 0.9880\n",
      "Epoch 43/100\n",
      "21/21 [==============================] - 0s 6ms/step - loss: 0.0657 - accuracy: 0.9940\n",
      "Epoch 44/100\n",
      "21/21 [==============================] - 0s 6ms/step - loss: 0.0636 - accuracy: 0.9880\n",
      "Epoch 45/100\n",
      "21/21 [==============================] - 0s 8ms/step - loss: 0.0649 - accuracy: 0.9940\n",
      "Epoch 46/100\n",
      "21/21 [==============================] - 0s 7ms/step - loss: 0.0548 - accuracy: 0.9940\n",
      "Epoch 47/100\n",
      "21/21 [==============================] - 0s 6ms/step - loss: 0.0757 - accuracy: 0.9940\n",
      "Epoch 48/100\n",
      "21/21 [==============================] - 0s 7ms/step - loss: 0.0685 - accuracy: 0.9880\n",
      "Epoch 49/100\n",
      "21/21 [==============================] - 0s 5ms/step - loss: 0.0571 - accuracy: 0.9880\n",
      "Epoch 50/100\n",
      "21/21 [==============================] - 0s 7ms/step - loss: 0.0524 - accuracy: 0.9880\n",
      "Epoch 51/100\n",
      "21/21 [==============================] - 0s 7ms/step - loss: 0.0763 - accuracy: 0.9819\n",
      "Epoch 52/100\n",
      "21/21 [==============================] - 0s 8ms/step - loss: 0.0432 - accuracy: 0.9940\n",
      "Epoch 53/100\n",
      "21/21 [==============================] - 0s 5ms/step - loss: 0.0373 - accuracy: 0.9940\n",
      "Epoch 54/100\n",
      "21/21 [==============================] - 0s 5ms/step - loss: 0.0360 - accuracy: 1.0000\n",
      "Epoch 55/100\n",
      "21/21 [==============================] - 0s 6ms/step - loss: 0.0293 - accuracy: 1.0000\n",
      "Epoch 56/100\n",
      "21/21 [==============================] - 0s 8ms/step - loss: 0.0266 - accuracy: 1.0000\n",
      "Epoch 57/100\n",
      "21/21 [==============================] - 0s 5ms/step - loss: 0.0249 - accuracy: 0.9940\n",
      "Epoch 58/100\n",
      "21/21 [==============================] - 0s 7ms/step - loss: 0.0310 - accuracy: 1.0000\n",
      "Epoch 59/100\n",
      "21/21 [==============================] - 0s 8ms/step - loss: 0.0298 - accuracy: 1.0000\n",
      "Epoch 60/100\n",
      "21/21 [==============================] - 0s 5ms/step - loss: 0.0259 - accuracy: 1.0000\n",
      "Epoch 61/100\n",
      "21/21 [==============================] - 0s 5ms/step - loss: 0.0208 - accuracy: 1.0000\n",
      "Epoch 62/100\n",
      "21/21 [==============================] - 0s 5ms/step - loss: 0.0195 - accuracy: 1.0000\n",
      "Epoch 63/100\n",
      "21/21 [==============================] - 0s 5ms/step - loss: 0.0176 - accuracy: 1.0000\n",
      "Epoch 64/100\n",
      "21/21 [==============================] - 0s 5ms/step - loss: 0.0142 - accuracy: 1.0000\n",
      "Epoch 65/100\n",
      "21/21 [==============================] - 0s 5ms/step - loss: 0.0140 - accuracy: 1.0000\n",
      "Epoch 66/100\n",
      "21/21 [==============================] - 0s 5ms/step - loss: 0.0132 - accuracy: 1.0000\n",
      "Epoch 67/100\n",
      "21/21 [==============================] - 0s 5ms/step - loss: 0.0124 - accuracy: 1.0000\n",
      "Epoch 68/100\n",
      "21/21 [==============================] - 0s 5ms/step - loss: 0.0136 - accuracy: 1.0000\n",
      "Epoch 69/100\n",
      "21/21 [==============================] - 0s 5ms/step - loss: 0.0181 - accuracy: 1.0000\n",
      "Epoch 70/100\n",
      "21/21 [==============================] - 0s 5ms/step - loss: 0.0112 - accuracy: 1.0000\n",
      "Epoch 71/100\n",
      "21/21 [==============================] - 0s 5ms/step - loss: 0.0108 - accuracy: 1.0000\n",
      "Epoch 72/100\n",
      "21/21 [==============================] - 0s 5ms/step - loss: 0.0094 - accuracy: 1.0000\n",
      "Epoch 73/100\n",
      "21/21 [==============================] - 0s 5ms/step - loss: 0.0098 - accuracy: 1.0000\n",
      "Epoch 74/100\n",
      "21/21 [==============================] - 0s 5ms/step - loss: 0.0080 - accuracy: 1.0000\n",
      "Epoch 75/100\n",
      "21/21 [==============================] - 0s 5ms/step - loss: 0.0077 - accuracy: 1.0000\n",
      "Epoch 76/100\n",
      "21/21 [==============================] - 0s 5ms/step - loss: 0.0070 - accuracy: 1.0000\n",
      "Epoch 77/100\n",
      "21/21 [==============================] - 0s 5ms/step - loss: 0.0072 - accuracy: 1.0000\n",
      "Epoch 78/100\n",
      "21/21 [==============================] - 0s 6ms/step - loss: 0.0068 - accuracy: 1.0000\n",
      "Epoch 79/100\n",
      "21/21 [==============================] - 0s 7ms/step - loss: 0.0062 - accuracy: 1.0000\n",
      "Epoch 80/100\n",
      "21/21 [==============================] - 0s 5ms/step - loss: 0.0062 - accuracy: 1.0000\n",
      "Epoch 81/100\n",
      "21/21 [==============================] - 0s 5ms/step - loss: 0.0060 - accuracy: 1.0000\n",
      "Epoch 82/100\n",
      "21/21 [==============================] - 0s 4ms/step - loss: 0.0054 - accuracy: 1.0000\n",
      "Epoch 83/100\n",
      "21/21 [==============================] - 0s 5ms/step - loss: 0.0051 - accuracy: 1.0000\n",
      "Epoch 84/100\n",
      "21/21 [==============================] - 0s 5ms/step - loss: 0.0059 - accuracy: 1.0000\n",
      "Epoch 85/100\n",
      "21/21 [==============================] - 0s 5ms/step - loss: 0.0052 - accuracy: 1.0000\n",
      "Epoch 86/100\n",
      "21/21 [==============================] - 0s 7ms/step - loss: 0.0047 - accuracy: 1.0000\n",
      "Epoch 87/100\n",
      "21/21 [==============================] - 0s 7ms/step - loss: 0.0041 - accuracy: 1.0000\n",
      "Epoch 88/100\n",
      "21/21 [==============================] - 0s 7ms/step - loss: 0.0041 - accuracy: 1.0000\n",
      "Epoch 89/100\n",
      "21/21 [==============================] - 0s 8ms/step - loss: 0.0042 - accuracy: 1.0000\n",
      "Epoch 90/100\n",
      "21/21 [==============================] - 0s 6ms/step - loss: 0.0039 - accuracy: 1.0000\n",
      "Epoch 91/100\n",
      "21/21 [==============================] - 0s 6ms/step - loss: 0.0035 - accuracy: 1.0000\n",
      "Epoch 92/100\n",
      "21/21 [==============================] - 0s 5ms/step - loss: 0.0034 - accuracy: 1.0000\n",
      "Epoch 93/100\n",
      "21/21 [==============================] - 0s 5ms/step - loss: 0.0032 - accuracy: 1.0000\n",
      "Epoch 94/100\n",
      "21/21 [==============================] - 0s 5ms/step - loss: 0.0036 - accuracy: 1.0000\n",
      "Epoch 95/100\n",
      "21/21 [==============================] - 0s 5ms/step - loss: 0.0041 - accuracy: 1.0000\n",
      "Epoch 96/100\n",
      "21/21 [==============================] - 0s 5ms/step - loss: 0.0030 - accuracy: 1.0000\n",
      "Epoch 97/100\n",
      "21/21 [==============================] - 0s 5ms/step - loss: 0.0032 - accuracy: 1.0000\n",
      "Epoch 98/100\n",
      "21/21 [==============================] - 0s 5ms/step - loss: 0.0029 - accuracy: 1.0000\n",
      "Epoch 99/100\n",
      "21/21 [==============================] - 0s 5ms/step - loss: 0.0028 - accuracy: 1.0000\n",
      "Epoch 100/100\n",
      "21/21 [==============================] - 0s 5ms/step - loss: 0.0028 - accuracy: 1.0000\n"
     ]
    },
    {
     "data": {
      "text/plain": [
       "<keras.callbacks.History at 0x1e43642ac10>"
      ]
     },
     "execution_count": 15,
     "metadata": {},
     "output_type": "execute_result"
    }
   ],
   "source": [
    "model = keras.Sequential([\n",
    "    keras.layers.Dense(60, input_dim=60, activation='relu'),\n",
    "    keras.layers.Dense(30, activation='relu'),\n",
    "    keras.layers.Dense(15, activation='relu'),\n",
    "    keras.layers.Dense(1, activation='sigmoid')\n",
    "])\n",
    "\n",
    "model.compile(\n",
    "    optimizer = 'adam',\n",
    "    loss = 'binary_crossentropy',\n",
    "    metrics = ['accuracy']\n",
    ")\n",
    "\n",
    "model.fit(x_train, y_train, epochs=100, batch_size=8)"
   ]
  },
  {
   "cell_type": "code",
   "execution_count": 16,
   "metadata": {},
   "outputs": [
    {
     "name": "stdout",
     "output_type": "stream",
     "text": [
      "2/2 [==============================] - 0s 6ms/step - loss: 1.1823 - accuracy: 0.7619\n"
     ]
    },
    {
     "data": {
      "text/plain": [
       "[1.1822898387908936, 0.761904776096344]"
      ]
     },
     "execution_count": 16,
     "metadata": {},
     "output_type": "execute_result"
    }
   ],
   "source": [
    "model.evaluate(x_test, y_test)"
   ]
  },
  {
   "cell_type": "code",
   "execution_count": 17,
   "metadata": {},
   "outputs": [
    {
     "name": "stdout",
     "output_type": "stream",
     "text": [
      "[1.9767769e-10 9.9760324e-01 3.4484994e-01 4.7723472e-07 9.9998820e-01\n",
      " 9.3584120e-01 3.0714368e-02 9.9999750e-01 1.2221547e-06 9.9999309e-01]\n",
      "[0. 1. 0. 0. 1. 1. 0. 1. 0. 1.]\n"
     ]
    }
   ],
   "source": [
    "y_pred = model.predict(x_test).reshape(-1)\n",
    "print(y_pred[:10])\n",
    "\n",
    "y_pred = np.round(y_pred)\n",
    "print(y_pred[:10])"
   ]
  },
  {
   "cell_type": "code",
   "execution_count": 18,
   "metadata": {},
   "outputs": [
    {
     "data": {
      "text/html": [
       "<div>\n",
       "<style scoped>\n",
       "    .dataframe tbody tr th:only-of-type {\n",
       "        vertical-align: middle;\n",
       "    }\n",
       "\n",
       "    .dataframe tbody tr th {\n",
       "        vertical-align: top;\n",
       "    }\n",
       "\n",
       "    .dataframe thead th {\n",
       "        text-align: right;\n",
       "    }\n",
       "</style>\n",
       "<table border=\"1\" class=\"dataframe\">\n",
       "  <thead>\n",
       "    <tr style=\"text-align: right;\">\n",
       "      <th></th>\n",
       "      <th>R</th>\n",
       "    </tr>\n",
       "  </thead>\n",
       "  <tbody>\n",
       "    <tr>\n",
       "      <th>186</th>\n",
       "      <td>0</td>\n",
       "    </tr>\n",
       "    <tr>\n",
       "      <th>155</th>\n",
       "      <td>0</td>\n",
       "    </tr>\n",
       "    <tr>\n",
       "      <th>165</th>\n",
       "      <td>0</td>\n",
       "    </tr>\n",
       "    <tr>\n",
       "      <th>200</th>\n",
       "      <td>0</td>\n",
       "    </tr>\n",
       "    <tr>\n",
       "      <th>58</th>\n",
       "      <td>1</td>\n",
       "    </tr>\n",
       "    <tr>\n",
       "      <th>34</th>\n",
       "      <td>1</td>\n",
       "    </tr>\n",
       "    <tr>\n",
       "      <th>151</th>\n",
       "      <td>0</td>\n",
       "    </tr>\n",
       "    <tr>\n",
       "      <th>18</th>\n",
       "      <td>1</td>\n",
       "    </tr>\n",
       "    <tr>\n",
       "      <th>202</th>\n",
       "      <td>0</td>\n",
       "    </tr>\n",
       "    <tr>\n",
       "      <th>62</th>\n",
       "      <td>1</td>\n",
       "    </tr>\n",
       "  </tbody>\n",
       "</table>\n",
       "</div>"
      ],
      "text/plain": [
       "     R\n",
       "186  0\n",
       "155  0\n",
       "165  0\n",
       "200  0\n",
       "58   1\n",
       "34   1\n",
       "151  0\n",
       "18   1\n",
       "202  0\n",
       "62   1"
      ]
     },
     "execution_count": 18,
     "metadata": {},
     "output_type": "execute_result"
    }
   ],
   "source": [
    "y_test[:10]"
   ]
  },
  {
   "cell_type": "code",
   "execution_count": 19,
   "metadata": {},
   "outputs": [
    {
     "name": "stdout",
     "output_type": "stream",
     "text": [
      "              precision    recall  f1-score   support\n",
      "\n",
      "           0       0.69      0.90      0.78        20\n",
      "           1       0.88      0.64      0.74        22\n",
      "\n",
      "    accuracy                           0.76        42\n",
      "   macro avg       0.78      0.77      0.76        42\n",
      "weighted avg       0.79      0.76      0.76        42\n",
      "\n"
     ]
    }
   ],
   "source": [
    "from sklearn.metrics import confusion_matrix, classification_report\n",
    "\n",
    "print(classification_report(y_test, y_pred))\n"
   ]
  },
  {
   "cell_type": "markdown",
   "metadata": {},
   "source": [
    "# model with dropout layers"
   ]
  },
  {
   "cell_type": "code",
   "execution_count": 20,
   "metadata": {},
   "outputs": [
    {
     "name": "stdout",
     "output_type": "stream",
     "text": [
      "Epoch 1/100\n",
      "21/21 [==============================] - 1s 6ms/step - loss: 0.7345 - accuracy: 0.4759\n",
      "Epoch 2/100\n",
      "21/21 [==============================] - 0s 6ms/step - loss: 0.7254 - accuracy: 0.4940\n",
      "Epoch 3/100\n",
      "21/21 [==============================] - 0s 9ms/step - loss: 0.7203 - accuracy: 0.4759\n",
      "Epoch 4/100\n",
      "21/21 [==============================] - 0s 5ms/step - loss: 0.7262 - accuracy: 0.4759\n",
      "Epoch 5/100\n",
      "21/21 [==============================] - 0s 5ms/step - loss: 0.7032 - accuracy: 0.5241\n",
      "Epoch 6/100\n",
      "21/21 [==============================] - 0s 8ms/step - loss: 0.7055 - accuracy: 0.5422\n",
      "Epoch 7/100\n",
      "21/21 [==============================] - 0s 8ms/step - loss: 0.6960 - accuracy: 0.4639\n",
      "Epoch 8/100\n",
      "21/21 [==============================] - 0s 7ms/step - loss: 0.6885 - accuracy: 0.5482\n",
      "Epoch 9/100\n",
      "21/21 [==============================] - 0s 7ms/step - loss: 0.6950 - accuracy: 0.4699\n",
      "Epoch 10/100\n",
      "21/21 [==============================] - 0s 7ms/step - loss: 0.6816 - accuracy: 0.6084\n",
      "Epoch 11/100\n",
      "21/21 [==============================] - 0s 10ms/step - loss: 0.6773 - accuracy: 0.6205\n",
      "Epoch 12/100\n",
      "21/21 [==============================] - 0s 10ms/step - loss: 0.6751 - accuracy: 0.6145\n",
      "Epoch 13/100\n",
      "21/21 [==============================] - 0s 7ms/step - loss: 0.6877 - accuracy: 0.5843\n",
      "Epoch 14/100\n",
      "21/21 [==============================] - 0s 7ms/step - loss: 0.6793 - accuracy: 0.6024\n",
      "Epoch 15/100\n",
      "21/21 [==============================] - 0s 7ms/step - loss: 0.6719 - accuracy: 0.5843\n",
      "Epoch 16/100\n",
      "21/21 [==============================] - 0s 6ms/step - loss: 0.6863 - accuracy: 0.5964\n",
      "Epoch 17/100\n",
      "21/21 [==============================] - 0s 7ms/step - loss: 0.6672 - accuracy: 0.5904\n",
      "Epoch 18/100\n",
      "21/21 [==============================] - 0s 9ms/step - loss: 0.6550 - accuracy: 0.6265\n",
      "Epoch 19/100\n",
      "21/21 [==============================] - 0s 9ms/step - loss: 0.6614 - accuracy: 0.5723\n",
      "Epoch 20/100\n",
      "21/21 [==============================] - 0s 8ms/step - loss: 0.6488 - accuracy: 0.6566\n",
      "Epoch 21/100\n",
      "21/21 [==============================] - 0s 8ms/step - loss: 0.6482 - accuracy: 0.6325\n",
      "Epoch 22/100\n",
      "21/21 [==============================] - 0s 7ms/step - loss: 0.6833 - accuracy: 0.5602\n",
      "Epoch 23/100\n",
      "21/21 [==============================] - 0s 9ms/step - loss: 0.6429 - accuracy: 0.6747\n",
      "Epoch 24/100\n",
      "21/21 [==============================] - 0s 9ms/step - loss: 0.6367 - accuracy: 0.6867\n",
      "Epoch 25/100\n",
      "21/21 [==============================] - 0s 7ms/step - loss: 0.6644 - accuracy: 0.6205\n",
      "Epoch 26/100\n",
      "21/21 [==============================] - 0s 7ms/step - loss: 0.6389 - accuracy: 0.6506\n",
      "Epoch 27/100\n",
      "21/21 [==============================] - 0s 9ms/step - loss: 0.6273 - accuracy: 0.6627\n",
      "Epoch 28/100\n",
      "21/21 [==============================] - 0s 9ms/step - loss: 0.6352 - accuracy: 0.6807\n",
      "Epoch 29/100\n",
      "21/21 [==============================] - 0s 7ms/step - loss: 0.5888 - accuracy: 0.7289\n",
      "Epoch 30/100\n",
      "21/21 [==============================] - 0s 7ms/step - loss: 0.6228 - accuracy: 0.6627\n",
      "Epoch 31/100\n",
      "21/21 [==============================] - 0s 9ms/step - loss: 0.6063 - accuracy: 0.7108\n",
      "Epoch 32/100\n",
      "21/21 [==============================] - 0s 8ms/step - loss: 0.5994 - accuracy: 0.7048\n",
      "Epoch 33/100\n",
      "21/21 [==============================] - 0s 7ms/step - loss: 0.5938 - accuracy: 0.6807\n",
      "Epoch 34/100\n",
      "21/21 [==============================] - 0s 9ms/step - loss: 0.5959 - accuracy: 0.6928\n",
      "Epoch 35/100\n",
      "21/21 [==============================] - 0s 6ms/step - loss: 0.6210 - accuracy: 0.6627\n",
      "Epoch 36/100\n",
      "21/21 [==============================] - 0s 7ms/step - loss: 0.5870 - accuracy: 0.7169\n",
      "Epoch 37/100\n",
      "21/21 [==============================] - 0s 6ms/step - loss: 0.5877 - accuracy: 0.7349\n",
      "Epoch 38/100\n",
      "21/21 [==============================] - 0s 7ms/step - loss: 0.5837 - accuracy: 0.7289\n",
      "Epoch 39/100\n",
      "21/21 [==============================] - 0s 9ms/step - loss: 0.5715 - accuracy: 0.7289\n",
      "Epoch 40/100\n",
      "21/21 [==============================] - 0s 7ms/step - loss: 0.5407 - accuracy: 0.7289\n",
      "Epoch 41/100\n",
      "21/21 [==============================] - 0s 7ms/step - loss: 0.5290 - accuracy: 0.7590\n",
      "Epoch 42/100\n",
      "21/21 [==============================] - 0s 9ms/step - loss: 0.5119 - accuracy: 0.7711\n",
      "Epoch 43/100\n",
      "21/21 [==============================] - 0s 10ms/step - loss: 0.5841 - accuracy: 0.7048\n",
      "Epoch 44/100\n",
      "21/21 [==============================] - 0s 10ms/step - loss: 0.5213 - accuracy: 0.7530\n",
      "Epoch 45/100\n",
      "21/21 [==============================] - 0s 8ms/step - loss: 0.5099 - accuracy: 0.7530\n",
      "Epoch 46/100\n",
      "21/21 [==============================] - 0s 10ms/step - loss: 0.4765 - accuracy: 0.7831\n",
      "Epoch 47/100\n",
      "21/21 [==============================] - 0s 12ms/step - loss: 0.4828 - accuracy: 0.7952\n",
      "Epoch 48/100\n",
      "21/21 [==============================] - 0s 7ms/step - loss: 0.4664 - accuracy: 0.7952\n",
      "Epoch 49/100\n",
      "21/21 [==============================] - 0s 7ms/step - loss: 0.4640 - accuracy: 0.7892\n",
      "Epoch 50/100\n",
      "21/21 [==============================] - 0s 7ms/step - loss: 0.4873 - accuracy: 0.7952\n",
      "Epoch 51/100\n",
      "21/21 [==============================] - 0s 10ms/step - loss: 0.5208 - accuracy: 0.7470\n",
      "Epoch 52/100\n",
      "21/21 [==============================] - 0s 10ms/step - loss: 0.4625 - accuracy: 0.8133\n",
      "Epoch 53/100\n",
      "21/21 [==============================] - 0s 9ms/step - loss: 0.4251 - accuracy: 0.8313\n",
      "Epoch 54/100\n",
      "21/21 [==============================] - 0s 8ms/step - loss: 0.4549 - accuracy: 0.8072\n",
      "Epoch 55/100\n",
      "21/21 [==============================] - 0s 8ms/step - loss: 0.4569 - accuracy: 0.8133\n",
      "Epoch 56/100\n",
      "21/21 [==============================] - 0s 8ms/step - loss: 0.4571 - accuracy: 0.7831\n",
      "Epoch 57/100\n",
      "21/21 [==============================] - 0s 9ms/step - loss: 0.4202 - accuracy: 0.8253\n",
      "Epoch 58/100\n",
      "21/21 [==============================] - 0s 6ms/step - loss: 0.4245 - accuracy: 0.8133\n",
      "Epoch 59/100\n",
      "21/21 [==============================] - 0s 9ms/step - loss: 0.4463 - accuracy: 0.8012\n",
      "Epoch 60/100\n",
      "21/21 [==============================] - 0s 6ms/step - loss: 0.4466 - accuracy: 0.8133\n",
      "Epoch 61/100\n",
      "21/21 [==============================] - 0s 6ms/step - loss: 0.4162 - accuracy: 0.8193\n",
      "Epoch 62/100\n",
      "21/21 [==============================] - 0s 9ms/step - loss: 0.3885 - accuracy: 0.8494\n",
      "Epoch 63/100\n",
      "21/21 [==============================] - 0s 6ms/step - loss: 0.3904 - accuracy: 0.8494\n",
      "Epoch 64/100\n",
      "21/21 [==============================] - 0s 6ms/step - loss: 0.3824 - accuracy: 0.8554\n",
      "Epoch 65/100\n",
      "21/21 [==============================] - 0s 8ms/step - loss: 0.4129 - accuracy: 0.8494\n",
      "Epoch 66/100\n",
      "21/21 [==============================] - 0s 9ms/step - loss: 0.4633 - accuracy: 0.7831\n",
      "Epoch 67/100\n",
      "21/21 [==============================] - 0s 8ms/step - loss: 0.4114 - accuracy: 0.8313\n",
      "Epoch 68/100\n",
      "21/21 [==============================] - 0s 9ms/step - loss: 0.3605 - accuracy: 0.8855\n",
      "Epoch 69/100\n",
      "21/21 [==============================] - 0s 8ms/step - loss: 0.4055 - accuracy: 0.8253\n",
      "Epoch 70/100\n",
      "21/21 [==============================] - 0s 9ms/step - loss: 0.3951 - accuracy: 0.8494\n",
      "Epoch 71/100\n",
      "21/21 [==============================] - 0s 10ms/step - loss: 0.3402 - accuracy: 0.8795\n",
      "Epoch 72/100\n",
      "21/21 [==============================] - 0s 6ms/step - loss: 0.3858 - accuracy: 0.8554\n",
      "Epoch 73/100\n",
      "21/21 [==============================] - 0s 6ms/step - loss: 0.4088 - accuracy: 0.8373\n",
      "Epoch 74/100\n",
      "21/21 [==============================] - 0s 7ms/step - loss: 0.3415 - accuracy: 0.8735\n",
      "Epoch 75/100\n",
      "21/21 [==============================] - 0s 6ms/step - loss: 0.4125 - accuracy: 0.8193\n",
      "Epoch 76/100\n",
      "21/21 [==============================] - 0s 6ms/step - loss: 0.3594 - accuracy: 0.8614\n",
      "Epoch 77/100\n",
      "21/21 [==============================] - 0s 6ms/step - loss: 0.3681 - accuracy: 0.8434\n",
      "Epoch 78/100\n",
      "21/21 [==============================] - 0s 6ms/step - loss: 0.4038 - accuracy: 0.8313\n",
      "Epoch 79/100\n",
      "21/21 [==============================] - 0s 6ms/step - loss: 0.3605 - accuracy: 0.8434\n",
      "Epoch 80/100\n",
      "21/21 [==============================] - 0s 6ms/step - loss: 0.3576 - accuracy: 0.8675\n",
      "Epoch 81/100\n",
      "21/21 [==============================] - 0s 6ms/step - loss: 0.3627 - accuracy: 0.8614\n",
      "Epoch 82/100\n",
      "21/21 [==============================] - 0s 6ms/step - loss: 0.3320 - accuracy: 0.8916\n",
      "Epoch 83/100\n",
      "21/21 [==============================] - 0s 6ms/step - loss: 0.3270 - accuracy: 0.8735\n",
      "Epoch 84/100\n",
      "21/21 [==============================] - 0s 6ms/step - loss: 0.3086 - accuracy: 0.8855\n",
      "Epoch 85/100\n",
      "21/21 [==============================] - 0s 6ms/step - loss: 0.3008 - accuracy: 0.8976\n",
      "Epoch 86/100\n",
      "21/21 [==============================] - 0s 6ms/step - loss: 0.3328 - accuracy: 0.8554\n",
      "Epoch 87/100\n",
      "21/21 [==============================] - 0s 9ms/step - loss: 0.3302 - accuracy: 0.8554\n",
      "Epoch 88/100\n",
      "21/21 [==============================] - 0s 6ms/step - loss: 0.3313 - accuracy: 0.8735\n",
      "Epoch 89/100\n",
      "21/21 [==============================] - 0s 6ms/step - loss: 0.3403 - accuracy: 0.8614\n",
      "Epoch 90/100\n",
      "21/21 [==============================] - 0s 6ms/step - loss: 0.3468 - accuracy: 0.8614\n",
      "Epoch 91/100\n",
      "21/21 [==============================] - 0s 6ms/step - loss: 0.3595 - accuracy: 0.8614\n",
      "Epoch 92/100\n",
      "21/21 [==============================] - 0s 8ms/step - loss: 0.3475 - accuracy: 0.8494\n",
      "Epoch 93/100\n",
      "21/21 [==============================] - 0s 10ms/step - loss: 0.2847 - accuracy: 0.8855\n",
      "Epoch 94/100\n",
      "21/21 [==============================] - 0s 8ms/step - loss: 0.3252 - accuracy: 0.8916\n",
      "Epoch 95/100\n",
      "21/21 [==============================] - 0s 6ms/step - loss: 0.3260 - accuracy: 0.8795\n",
      "Epoch 96/100\n",
      "21/21 [==============================] - 0s 6ms/step - loss: 0.3216 - accuracy: 0.8976\n",
      "Epoch 97/100\n",
      "21/21 [==============================] - 0s 8ms/step - loss: 0.2843 - accuracy: 0.8855\n",
      "Epoch 98/100\n",
      "21/21 [==============================] - 0s 9ms/step - loss: 0.2953 - accuracy: 0.8855\n",
      "Epoch 99/100\n",
      "21/21 [==============================] - 0s 8ms/step - loss: 0.3088 - accuracy: 0.8614\n",
      "Epoch 100/100\n",
      "21/21 [==============================] - 0s 6ms/step - loss: 0.3004 - accuracy: 0.8855\n"
     ]
    },
    {
     "data": {
      "text/plain": [
       "<keras.callbacks.History at 0x1e44e366c40>"
      ]
     },
     "execution_count": 20,
     "metadata": {},
     "output_type": "execute_result"
    }
   ],
   "source": [
    "modeld = keras.Sequential([\n",
    "    keras.layers.Dense(60, input_dim=60, activation='relu'),\n",
    "    keras.layers.Dropout(0.5),\n",
    "    keras.layers.Dense(30, activation='relu'),\n",
    "    keras.layers.Dropout(0.5,),\n",
    "    keras.layers.Dense(15, activation='relu'),\n",
    "    keras.layers.Dropout(0.5),\n",
    "    keras.layers.Dense(1, activation='sigmoid')\n",
    "])\n",
    "\n",
    "modeld.compile(\n",
    "    optimizer='adam',\n",
    "    loss='binary_crossentropy',\n",
    "    metrics=['accuracy']\n",
    ")\n",
    "\n",
    "modeld.fit(x_train, y_train, epochs=100, batch_size=8)\n"
   ]
  },
  {
   "cell_type": "code",
   "execution_count": 21,
   "metadata": {},
   "outputs": [
    {
     "name": "stdout",
     "output_type": "stream",
     "text": [
      "2/2 [==============================] - 0s 5ms/step - loss: 0.5441 - accuracy: 0.7381\n"
     ]
    },
    {
     "data": {
      "text/plain": [
       "[0.5441161394119263, 0.738095223903656]"
      ]
     },
     "execution_count": 21,
     "metadata": {},
     "output_type": "execute_result"
    }
   ],
   "source": [
    "modeld.evaluate(x_test, y_test)"
   ]
  },
  {
   "cell_type": "code",
   "execution_count": 22,
   "metadata": {},
   "outputs": [
    {
     "name": "stdout",
     "output_type": "stream",
     "text": [
      "[0.00649348 0.8752237  0.9158323  0.03748524 0.99995244 0.96746427\n",
      " 0.4763142  0.9999778  0.05523137 0.99998486]\n",
      "[0. 1. 1. 0. 1. 1. 0. 1. 0. 1.]\n"
     ]
    }
   ],
   "source": [
    "y_pred = modeld.predict(x_test).reshape(-1)\n",
    "print(y_pred[:10])\n",
    "\n",
    "y_pred = np.round(y_pred)\n",
    "print(y_pred[:10])\n"
   ]
  },
  {
   "cell_type": "code",
   "execution_count": 23,
   "metadata": {},
   "outputs": [
    {
     "data": {
      "text/html": [
       "<div>\n",
       "<style scoped>\n",
       "    .dataframe tbody tr th:only-of-type {\n",
       "        vertical-align: middle;\n",
       "    }\n",
       "\n",
       "    .dataframe tbody tr th {\n",
       "        vertical-align: top;\n",
       "    }\n",
       "\n",
       "    .dataframe thead th {\n",
       "        text-align: right;\n",
       "    }\n",
       "</style>\n",
       "<table border=\"1\" class=\"dataframe\">\n",
       "  <thead>\n",
       "    <tr style=\"text-align: right;\">\n",
       "      <th></th>\n",
       "      <th>R</th>\n",
       "    </tr>\n",
       "  </thead>\n",
       "  <tbody>\n",
       "    <tr>\n",
       "      <th>186</th>\n",
       "      <td>0</td>\n",
       "    </tr>\n",
       "    <tr>\n",
       "      <th>155</th>\n",
       "      <td>0</td>\n",
       "    </tr>\n",
       "    <tr>\n",
       "      <th>165</th>\n",
       "      <td>0</td>\n",
       "    </tr>\n",
       "    <tr>\n",
       "      <th>200</th>\n",
       "      <td>0</td>\n",
       "    </tr>\n",
       "    <tr>\n",
       "      <th>58</th>\n",
       "      <td>1</td>\n",
       "    </tr>\n",
       "    <tr>\n",
       "      <th>34</th>\n",
       "      <td>1</td>\n",
       "    </tr>\n",
       "    <tr>\n",
       "      <th>151</th>\n",
       "      <td>0</td>\n",
       "    </tr>\n",
       "    <tr>\n",
       "      <th>18</th>\n",
       "      <td>1</td>\n",
       "    </tr>\n",
       "    <tr>\n",
       "      <th>202</th>\n",
       "      <td>0</td>\n",
       "    </tr>\n",
       "    <tr>\n",
       "      <th>62</th>\n",
       "      <td>1</td>\n",
       "    </tr>\n",
       "  </tbody>\n",
       "</table>\n",
       "</div>"
      ],
      "text/plain": [
       "     R\n",
       "186  0\n",
       "155  0\n",
       "165  0\n",
       "200  0\n",
       "58   1\n",
       "34   1\n",
       "151  0\n",
       "18   1\n",
       "202  0\n",
       "62   1"
      ]
     },
     "execution_count": 23,
     "metadata": {},
     "output_type": "execute_result"
    }
   ],
   "source": [
    "y_test[:10]"
   ]
  },
  {
   "cell_type": "code",
   "execution_count": 24,
   "metadata": {},
   "outputs": [
    {
     "name": "stdout",
     "output_type": "stream",
     "text": [
      "              precision    recall  f1-score   support\n",
      "\n",
      "           0       0.68      0.85      0.76        20\n",
      "           1       0.82      0.64      0.72        22\n",
      "\n",
      "    accuracy                           0.74        42\n",
      "   macro avg       0.75      0.74      0.74        42\n",
      "weighted avg       0.76      0.74      0.74        42\n",
      "\n"
     ]
    }
   ],
   "source": [
    "print(classification_report(y_test, y_pred))\n"
   ]
  }
 ],
 "metadata": {
  "interpreter": {
   "hash": "540d8e3fe5dce4d114b8db95b56ba4a71294e797899f8ee8d8f36e3b24034e00"
  },
  "kernelspec": {
   "display_name": "Python 3.9.7 64-bit ('tensorflow': conda)",
   "language": "python",
   "name": "python3"
  },
  "language_info": {
   "codemirror_mode": {
    "name": "ipython",
    "version": 3
   },
   "file_extension": ".py",
   "mimetype": "text/x-python",
   "name": "python",
   "nbconvert_exporter": "python",
   "pygments_lexer": "ipython3",
   "version": "3.9.7"
  },
  "orig_nbformat": 4
 },
 "nbformat": 4,
 "nbformat_minor": 2
}
