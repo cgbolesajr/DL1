{
 "cells": [
  {
   "cell_type": "code",
   "execution_count": 1,
   "metadata": {},
   "outputs": [],
   "source": [
    "import tensorflow as tf\n",
    "from tensorflow import keras\n",
    "import matplotlib.pyplot as plt\n",
    "import numpy as np\n"
   ]
  },
  {
   "cell_type": "code",
   "execution_count": 2,
   "metadata": {},
   "outputs": [
    {
     "data": {
      "text/plain": [
       "[PhysicalDevice(name='/physical_device:GPU:0', device_type='GPU')]"
      ]
     },
     "execution_count": 2,
     "metadata": {},
     "output_type": "execute_result"
    }
   ],
   "source": [
    "tf.config.experimental.list_physical_devices('GPU')"
   ]
  },
  {
   "cell_type": "code",
   "execution_count": 3,
   "metadata": {},
   "outputs": [
    {
     "data": {
      "text/plain": [
       "True"
      ]
     },
     "execution_count": 3,
     "metadata": {},
     "output_type": "execute_result"
    }
   ],
   "source": [
    "tf.test.is_built_with_cuda()"
   ]
  },
  {
   "cell_type": "code",
   "execution_count": 4,
   "metadata": {},
   "outputs": [],
   "source": [
    "(X_train, y_train),(X_test, y_test) = tf.keras.datasets.cifar10.load_data()"
   ]
  },
  {
   "cell_type": "code",
   "execution_count": 5,
   "metadata": {},
   "outputs": [
    {
     "data": {
      "text/plain": [
       "((50000, 32, 32, 3), (50000, 1))"
      ]
     },
     "execution_count": 5,
     "metadata": {},
     "output_type": "execute_result"
    }
   ],
   "source": [
    "X_train.shape, y_train.shape"
   ]
  },
  {
   "cell_type": "code",
   "execution_count": 7,
   "metadata": {},
   "outputs": [
    {
     "data": {
      "text/plain": [
       "(10000, 32, 32, 3)"
      ]
     },
     "execution_count": 7,
     "metadata": {},
     "output_type": "execute_result"
    }
   ],
   "source": [
    "X_test.shape"
   ]
  },
  {
   "cell_type": "code",
   "execution_count": 8,
   "metadata": {},
   "outputs": [],
   "source": [
    "def plot_sample(index):\n",
    "    plt.figure(figsize=(10,1))\n",
    "    plt.imshow(X_train[index])"
   ]
  },
  {
   "cell_type": "code",
   "execution_count": 9,
   "metadata": {},
   "outputs": [
    {
     "data": {
      "image/png": "[encoded data removed]",
      "text/plain": [
       "<Figure size 720x72 with 1 Axes>"
      ]
     },
     "metadata": {
      "needs_background": "light"
     },
     "output_type": "display_data"
    }
   ],
   "source": [
    "plot_sample(0)"
   ]
  },
  {
   "cell_type": "code",
   "execution_count": 10,
   "metadata": {},
   "outputs": [],
   "source": [
    "classes = [\"airplane\", \"automobile\", \"bird\", \"cat\",\n",
    "           \"deer\", \"dog\", \"frog\", \"horse\", \"ship\", \"truck\"]\n"
   ]
  },
  {
   "cell_type": "code",
   "execution_count": 11,
   "metadata": {},
   "outputs": [
    {
     "data": {
      "image/png": "[encoded data removed]",
      "text/plain": [
       "<Figure size 720x72 with 1 Axes>"
      ]
     },
     "metadata": {
      "needs_background": "light"
     },
     "output_type": "display_data"
    }
   ],
   "source": [
    "plot_sample(3)"
   ]
  },
  {
   "cell_type": "code",
   "execution_count": 12,
   "metadata": {},
   "outputs": [
    {
     "data": {
      "text/plain": [
       "array([4], dtype=uint8)"
      ]
     },
     "execution_count": 12,
     "metadata": {},
     "output_type": "execute_result"
    }
   ],
   "source": [
    "y_train[3]"
   ]
  },
  {
   "cell_type": "code",
   "execution_count": 13,
   "metadata": {},
   "outputs": [
    {
     "data": {
      "text/plain": [
       "'deer'"
      ]
     },
     "execution_count": 13,
     "metadata": {},
     "output_type": "execute_result"
    }
   ],
   "source": [
    "classes[y_train[3][0]]"
   ]
  },
  {
   "cell_type": "code",
   "execution_count": 14,
   "metadata": {},
   "outputs": [],
   "source": [
    "x_train_scaled = X_train/255              # normalization can use minmax scaler in sklearn library  \n",
    "x_test_scaled = X_test/255"
   ]
  },
  {
   "cell_type": "code",
   "execution_count": 14,
   "metadata": {},
   "outputs": [],
   "source": [
    "# from sklearn.preprocessing import MinMaxScaler\n",
    "\n",
    "# scaler = MinMaxScaler()\n",
    "\n",
    "# x_train_scaled1 = x_train.copy()\n",
    "# x_train_scaled1 = x_train_scaled1.reshape(-1, 1)\n",
    "# x_train_scaled1 = scaler.fit_transform(x_train_scaled1)\n",
    "# x_train_scaled1 = x_train_scaled1.reshape(x_train.shape)\n",
    "# x_train_scaled1.shape\n",
    "\n",
    "# x_test_scaled1 = x_test.copy()\n",
    "# x_test_scaled1 = x_test_scaled1.reshape(-1, 1)\n",
    "# x_test_scaled1 = scaler.fit_transform(x_test_scaled1)\n",
    "# x_test_scaled1 = x_test_scaled1.reshape(x_test.shape)\n",
    "# x_test_scaled1.shape\n"
   ]
  },
  {
   "cell_type": "code",
   "execution_count": 15,
   "metadata": {},
   "outputs": [
    {
     "data": {
      "text/plain": [
       "(50000, 32, 32, 3)"
      ]
     },
     "execution_count": 15,
     "metadata": {},
     "output_type": "execute_result"
    }
   ],
   "source": [
    "x_train_scaled.shape"
   ]
  },
  {
   "cell_type": "code",
   "execution_count": 16,
   "metadata": {},
   "outputs": [],
   "source": [
    "y_train_categorical = keras.utils.to_categorical(\n",
    "    y_train, num_classes=10, dtype='float32'\n",
    ")\n",
    "y_test_categorical = keras.utils.to_categorical(\n",
    "    y_test, num_classes=10, dtype='float32'\n",
    ")\n"
   ]
  },
  {
   "cell_type": "code",
   "execution_count": 17,
   "metadata": {},
   "outputs": [
    {
     "data": {
      "text/plain": [
       "array([[6],\n",
       "       [9],\n",
       "       [9],\n",
       "       [4],\n",
       "       [1]], dtype=uint8)"
      ]
     },
     "execution_count": 17,
     "metadata": {},
     "output_type": "execute_result"
    }
   ],
   "source": [
    "y_train[0:5]         # if this is passed in the NN use sparse_categorical_crossentropy"
   ]
  },
  {
   "cell_type": "code",
   "execution_count": 18,
   "metadata": {},
   "outputs": [
    {
     "data": {
      "text/plain": [
       "array([[0., 0., 0., 0., 0., 0., 1., 0., 0., 0.],\n",
       "       [0., 0., 0., 0., 0., 0., 0., 0., 0., 1.],\n",
       "       [0., 0., 0., 0., 0., 0., 0., 0., 0., 1.],\n",
       "       [0., 0., 0., 0., 1., 0., 0., 0., 0., 0.],\n",
       "       [0., 1., 0., 0., 0., 0., 0., 0., 0., 0.]], dtype=float32)"
      ]
     },
     "execution_count": 18,
     "metadata": {},
     "output_type": "execute_result"
    }
   ],
   "source": [
    "y_train_categorical[0:5]          # if this one hot encoded is passed then use categorical_crossentropy"
   ]
  },
  {
   "cell_type": "code",
   "execution_count": 19,
   "metadata": {},
   "outputs": [
    {
     "name": "stdout",
     "output_type": "stream",
     "text": [
      "Epoch 1/50\n",
      "1563/1563 [==============================] - 22s 12ms/step - loss: 1.8111 - accuracy: 0.3548\n",
      "Epoch 2/50\n",
      "1563/1563 [==============================] - 20s 13ms/step - loss: 1.6231 - accuracy: 0.4266\n",
      "Epoch 3/50\n",
      "1563/1563 [==============================] - 21s 14ms/step - loss: 1.5382 - accuracy: 0.4586\n",
      "Epoch 4/50\n",
      "1563/1563 [==============================] - 21s 14ms/step - loss: 1.4810 - accuracy: 0.4772\n",
      "Epoch 5/50\n",
      "1563/1563 [==============================] - 22s 14ms/step - loss: 1.4313 - accuracy: 0.4953\n",
      "Epoch 6/50\n",
      "1563/1563 [==============================] - 24s 15ms/step - loss: 1.3892 - accuracy: 0.5131\n",
      "Epoch 7/50\n",
      "1563/1563 [==============================] - 23s 15ms/step - loss: 1.3494 - accuracy: 0.5257\n",
      "Epoch 8/50\n",
      "1563/1563 [==============================] - 22s 14ms/step - loss: 1.3140 - accuracy: 0.5377\n",
      "Epoch 9/50\n",
      "1563/1563 [==============================] - 21s 13ms/step - loss: 1.2830 - accuracy: 0.5496\n",
      "Epoch 10/50\n",
      "1563/1563 [==============================] - 22s 14ms/step - loss: 1.2511 - accuracy: 0.5619\n",
      "Epoch 11/50\n",
      "1563/1563 [==============================] - 21s 14ms/step - loss: 1.2200 - accuracy: 0.5732\n",
      "Epoch 12/50\n",
      "1563/1563 [==============================] - 22s 14ms/step - loss: 1.1922 - accuracy: 0.5817\n",
      "Epoch 13/50\n",
      "1563/1563 [==============================] - 22s 14ms/step - loss: 1.1650 - accuracy: 0.5934\n",
      "Epoch 14/50\n",
      "1563/1563 [==============================] - 21s 14ms/step - loss: 1.1364 - accuracy: 0.6031\n",
      "Epoch 15/50\n",
      "1563/1563 [==============================] - 22s 14ms/step - loss: 1.1131 - accuracy: 0.6106\n",
      "Epoch 16/50\n",
      "1563/1563 [==============================] - 22s 14ms/step - loss: 1.0842 - accuracy: 0.6192\n",
      "Epoch 17/50\n",
      "1563/1563 [==============================] - 22s 14ms/step - loss: 1.0564 - accuracy: 0.6315\n",
      "Epoch 18/50\n",
      "1563/1563 [==============================] - 22s 14ms/step - loss: 1.0314 - accuracy: 0.6400\n",
      "Epoch 19/50\n",
      "1563/1563 [==============================] - 22s 14ms/step - loss: 1.0068 - accuracy: 0.6497\n",
      "Epoch 20/50\n",
      "1563/1563 [==============================] - 22s 14ms/step - loss: 0.9794 - accuracy: 0.6616\n",
      "Epoch 21/50\n",
      "1563/1563 [==============================] - 22s 14ms/step - loss: 0.9551 - accuracy: 0.6693\n",
      "Epoch 22/50\n",
      "1563/1563 [==============================] - 22s 14ms/step - loss: 0.9277 - accuracy: 0.6799\n",
      "Epoch 23/50\n",
      "1563/1563 [==============================] - 22s 14ms/step - loss: 0.9032 - accuracy: 0.6870\n",
      "Epoch 24/50\n",
      "1563/1563 [==============================] - 23s 15ms/step - loss: 0.8775 - accuracy: 0.6985\n",
      "Epoch 25/50\n",
      "1563/1563 [==============================] - 23s 15ms/step - loss: 0.8527 - accuracy: 0.7052\n",
      "Epoch 26/50\n",
      "1563/1563 [==============================] - 23s 15ms/step - loss: 0.8246 - accuracy: 0.7164\n",
      "Epoch 27/50\n",
      "1563/1563 [==============================] - 23s 15ms/step - loss: 0.8000 - accuracy: 0.7249\n",
      "Epoch 28/50\n",
      "1563/1563 [==============================] - 23s 15ms/step - loss: 0.7767 - accuracy: 0.7341\n",
      "Epoch 29/50\n",
      "1563/1563 [==============================] - 23s 15ms/step - loss: 0.7531 - accuracy: 0.7419\n",
      "Epoch 30/50\n",
      "1563/1563 [==============================] - 23s 15ms/step - loss: 0.7245 - accuracy: 0.7523\n",
      "Epoch 31/50\n",
      "1563/1563 [==============================] - 23s 15ms/step - loss: 0.7026 - accuracy: 0.7617\n",
      "Epoch 32/50\n",
      "1563/1563 [==============================] - 23s 15ms/step - loss: 0.6751 - accuracy: 0.7719\n",
      "Epoch 33/50\n",
      "1563/1563 [==============================] - 22s 14ms/step - loss: 0.6510 - accuracy: 0.7781\n",
      "Epoch 34/50\n",
      "1563/1563 [==============================] - 22s 14ms/step - loss: 0.6265 - accuracy: 0.7916\n",
      "Epoch 35/50\n",
      "1563/1563 [==============================] - 22s 14ms/step - loss: 0.6033 - accuracy: 0.7956\n",
      "Epoch 36/50\n",
      "1563/1563 [==============================] - 23s 15ms/step - loss: 0.5760 - accuracy: 0.8098\n",
      "Epoch 37/50\n",
      "1563/1563 [==============================] - 23s 14ms/step - loss: 0.5525 - accuracy: 0.8180\n",
      "Epoch 38/50\n",
      "1563/1563 [==============================] - 23s 15ms/step - loss: 0.5327 - accuracy: 0.8249\n",
      "Epoch 39/50\n",
      "1563/1563 [==============================] - 23s 15ms/step - loss: 0.5071 - accuracy: 0.8336\n",
      "Epoch 40/50\n",
      "1563/1563 [==============================] - 23s 15ms/step - loss: 0.4854 - accuracy: 0.8427\n",
      "Epoch 41/50\n",
      "1563/1563 [==============================] - 23s 15ms/step - loss: 0.4625 - accuracy: 0.8500\n",
      "Epoch 42/50\n",
      "1563/1563 [==============================] - 23s 15ms/step - loss: 0.4442 - accuracy: 0.8586\n",
      "Epoch 43/50\n",
      "1563/1563 [==============================] - 23s 15ms/step - loss: 0.4215 - accuracy: 0.8648\n",
      "Epoch 44/50\n",
      "1563/1563 [==============================] - 23s 15ms/step - loss: 0.3995 - accuracy: 0.8739\n",
      "Epoch 45/50\n",
      "1563/1563 [==============================] - 23s 15ms/step - loss: 0.3794 - accuracy: 0.8791\n",
      "Epoch 46/50\n",
      "1563/1563 [==============================] - 23s 15ms/step - loss: 0.3610 - accuracy: 0.8874\n",
      "Epoch 47/50\n",
      "1563/1563 [==============================] - 23s 15ms/step - loss: 0.3448 - accuracy: 0.8932\n",
      "Epoch 48/50\n",
      "1563/1563 [==============================] - 23s 15ms/step - loss: 0.3263 - accuracy: 0.9007\n",
      "Epoch 49/50\n",
      "1563/1563 [==============================] - 23s 15ms/step - loss: 0.3033 - accuracy: 0.9093\n",
      "Epoch 50/50\n",
      "1563/1563 [==============================] - 23s 15ms/step - loss: 0.2914 - accuracy: 0.9123\n"
     ]
    },
    {
     "data": {
      "text/plain": [
       "<keras.callbacks.History at 0x232051922e0>"
      ]
     },
     "execution_count": 19,
     "metadata": {},
     "output_type": "execute_result"
    }
   ],
   "source": [
    "model = keras.Sequential([\n",
    "    keras.layers.Flatten(input_shape=(32, 32, 3)),\n",
    "    keras.layers.Dense(3000, activation='relu'),\n",
    "    keras.layers.Dense(1000, activation='relu'),\n",
    "    keras.layers.Dense(10, activation='sigmoid')\n",
    "])\n",
    "\n",
    "model.compile(optimizer='SGD',\n",
    "              loss='categorical_crossentropy', \n",
    "              metrics=['accuracy'])\n",
    "\n",
    "model.fit(x_train_scaled, y_train_categorical, epochs=50)\n"
   ]
  },
  {
   "cell_type": "code",
   "execution_count": 22,
   "metadata": {},
   "outputs": [
    {
     "data": {
      "text/plain": [
       "array([8.5894638e-01, 3.6191437e-01, 2.5241995e-01, 9.9780923e-01,\n",
       "       8.7393796e-01, 6.2798494e-01, 9.4965789e-03, 5.7991978e-04,\n",
       "       9.6503943e-01, 1.3412412e-01], dtype=float32)"
      ]
     },
     "execution_count": 22,
     "metadata": {},
     "output_type": "execute_result"
    }
   ],
   "source": [
    "model.predict(x_test_scaled)[0]"
   ]
  },
  {
   "cell_type": "code",
   "execution_count": 23,
   "metadata": {},
   "outputs": [
    {
     "data": {
      "text/plain": [
       "'cat'"
      ]
     },
     "execution_count": 23,
     "metadata": {},
     "output_type": "execute_result"
    }
   ],
   "source": [
    "classes[y_test[0][0]]"
   ]
  },
  {
   "cell_type": "code",
   "execution_count": 27,
   "metadata": {},
   "outputs": [
    {
     "data": {
      "text/plain": [
       "8"
      ]
     },
     "execution_count": 27,
     "metadata": {},
     "output_type": "execute_result"
    }
   ],
   "source": [
    "np.argmax(model.predict(x_test_scaled)[1])"
   ]
  },
  {
   "cell_type": "markdown",
   "metadata": {},
   "source": [
    "# predictions"
   ]
  },
  {
   "cell_type": "code",
   "execution_count": 34,
   "metadata": {},
   "outputs": [
    {
     "data": {
      "text/plain": [
       "'ship'"
      ]
     },
     "execution_count": 34,
     "metadata": {},
     "output_type": "execute_result"
    }
   ],
   "source": [
    "classes[np.argmax(model.predict(x_test_scaled)[1])]       # prediction label\n"
   ]
  },
  {
   "cell_type": "code",
   "execution_count": 35,
   "metadata": {},
   "outputs": [
    {
     "data": {
      "text/plain": [
       "'ship'"
      ]
     },
     "execution_count": 35,
     "metadata": {},
     "output_type": "execute_result"
    }
   ],
   "source": [
    "classes[y_test[1][0]]               # truth or actual"
   ]
  },
  {
   "cell_type": "code",
   "execution_count": 41,
   "metadata": {},
   "outputs": [
    {
     "name": "stdout",
     "output_type": "stream",
     "text": [
      "313/313 [==============================] - 2s 6ms/step - loss: 1.6055 - accuracy: 0.5623\n"
     ]
    },
    {
     "data": {
      "text/plain": [
       "[1.6054760217666626, 0.5623000264167786]"
      ]
     },
     "execution_count": 41,
     "metadata": {},
     "output_type": "execute_result"
    }
   ],
   "source": [
    "model.evaluate(x_test_scaled,y_test_categorical)"
   ]
  },
  {
   "cell_type": "markdown",
   "metadata": {},
   "source": [
    "# Measure training time on a CPU"
   ]
  },
  {
   "cell_type": "code",
   "execution_count": 43,
   "metadata": {},
   "outputs": [],
   "source": [
    "def get_model():\n",
    "    model = keras.Sequential([\n",
    "        keras.layers.Flatten(input_shape=(32, 32, 3)),\n",
    "        keras.layers.Dense(3000, activation='relu'),\n",
    "        keras.layers.Dense(1000, activation='relu'),\n",
    "        keras.layers.Dense(10, activation='sigmoid')\n",
    "    ])\n",
    "\n",
    "    model.compile(optimizer='SGD',\n",
    "                  loss='categorical_crossentropy',\n",
    "                  metrics=['accuracy'])\n",
    "\n",
    "    return model"
   ]
  },
  {
   "cell_type": "code",
   "execution_count": 47,
   "metadata": {},
   "outputs": [
    {
     "name": "stdout",
     "output_type": "stream",
     "text": [
      "1563/1563 [==============================] - 110s 69ms/step - loss: 1.8121 - accuracy: 0.3535\n",
      "2min ± 0 ns per loop (mean ± std. dev. of 1 run, 1 loop each)\n"
     ]
    }
   ],
   "source": [
    "%%timeit -n1 -r1\n",
    "with tf.device('/CPU:0'):\n",
    "    cpu_model = get_model()\n",
    "    cpu_model.fit(x_train_scaled, y_train_categorical, epochs=1)\n"
   ]
  },
  {
   "cell_type": "code",
   "execution_count": 49,
   "metadata": {},
   "outputs": [
    {
     "name": "stdout",
     "output_type": "stream",
     "text": [
      "1563/1563 [==============================] - 20s 12ms/step - loss: 1.8130 - accuracy: 0.3545\n",
      "33.4 s ± 0 ns per loop (mean ± std. dev. of 1 run, 1 loop each)\n"
     ]
    }
   ],
   "source": [
    "%%timeit -n1 -r1\n",
    "with tf.device('/GPU:0'):\n",
    "    cpu_model = get_model()\n",
    "    cpu_model.fit(x_train_scaled, y_train_categorical, epochs=1)\n"
   ]
  },
  {
   "cell_type": "code",
   "execution_count": 50,
   "metadata": {},
   "outputs": [
    {
     "name": "stdout",
     "output_type": "stream",
     "text": [
      "Epoch 1/10\n",
      "1563/1563 [==============================] - 113s 71ms/step - loss: 1.8107 - accuracy: 0.3559\n",
      "Epoch 2/10\n",
      "1563/1563 [==============================] - 112s 72ms/step - loss: 1.6238 - accuracy: 0.4268\n",
      "Epoch 3/10\n",
      "1563/1563 [==============================] - 114s 73ms/step - loss: 1.5413 - accuracy: 0.4554\n",
      "Epoch 4/10\n",
      "1563/1563 [==============================] - 119s 76ms/step - loss: 1.4815 - accuracy: 0.4777\n",
      "Epoch 5/10\n",
      "1563/1563 [==============================] - 121s 78ms/step - loss: 1.4332 - accuracy: 0.4956\n",
      "Epoch 6/10\n",
      "1563/1563 [==============================] - 116s 74ms/step - loss: 1.3895 - accuracy: 0.5108\n",
      "Epoch 7/10\n",
      "1563/1563 [==============================] - 114s 73ms/step - loss: 1.3506 - accuracy: 0.5226\n",
      "Epoch 8/10\n",
      "1563/1563 [==============================] - 118s 75ms/step - loss: 1.3122 - accuracy: 0.5397\n",
      "Epoch 9/10\n",
      "1563/1563 [==============================] - 113s 72ms/step - loss: 1.2835 - accuracy: 0.5502\n",
      "Epoch 10/10\n",
      "1563/1563 [==============================] - 113s 72ms/step - loss: 1.2530 - accuracy: 0.5600\n",
      "19min 21s ± 0 ns per loop (mean ± std. dev. of 1 run, 1 loop each)\n"
     ]
    }
   ],
   "source": [
    "%%timeit -n1 -r1\n",
    "with tf.device('/CPU:0'):\n",
    "    cpu_model = get_model()\n",
    "    cpu_model.fit(x_train_scaled, y_train_categorical, epochs=10)\n"
   ]
  },
  {
   "cell_type": "code",
   "execution_count": 51,
   "metadata": {},
   "outputs": [
    {
     "name": "stdout",
     "output_type": "stream",
     "text": [
      "Epoch 1/10\n",
      "1563/1563 [==============================] - 22s 13ms/step - loss: 1.8164 - accuracy: 0.3529\n",
      "Epoch 2/10\n",
      "1563/1563 [==============================] - 22s 14ms/step - loss: 1.6261 - accuracy: 0.4278\n",
      "Epoch 3/10\n",
      "1563/1563 [==============================] - 22s 14ms/step - loss: 1.5429 - accuracy: 0.4561\n",
      "Epoch 4/10\n",
      "1563/1563 [==============================] - 23s 15ms/step - loss: 1.4840 - accuracy: 0.4766\n",
      "Epoch 5/10\n",
      "1563/1563 [==============================] - 23s 15ms/step - loss: 1.4341 - accuracy: 0.4944\n",
      "Epoch 6/10\n",
      "1563/1563 [==============================] - 23s 15ms/step - loss: 1.3892 - accuracy: 0.5129\n",
      "Epoch 7/10\n",
      "1563/1563 [==============================] - 23s 15ms/step - loss: 1.3496 - accuracy: 0.5266\n",
      "Epoch 8/10\n",
      "1563/1563 [==============================] - 23s 15ms/step - loss: 1.3148 - accuracy: 0.5373\n",
      "Epoch 9/10\n",
      "1563/1563 [==============================] - 23s 14ms/step - loss: 1.2834 - accuracy: 0.5489\n",
      "Epoch 10/10\n",
      "1563/1563 [==============================] - 22s 14ms/step - loss: 1.2531 - accuracy: 0.5624\n",
      "4min ± 0 ns per loop (mean ± std. dev. of 1 run, 1 loop each)\n"
     ]
    }
   ],
   "source": [
    "%%timeit -n1 -r1 \n",
    "with tf.device('/GPU:0'):\n",
    "    cpu_model = get_model()\n",
    "    cpu_model.fit(x_train_scaled, y_train_categorical, epochs=10)"
   ]
  },
  {
   "cell_type": "markdown",
   "metadata": {},
   "source": [
    "\n",
    "| Epoch | CPU | GPU |\n",
    "| --- | --- | --- |\n",
    "| 1 | 110s | 20s |\n",
    "| 10 | 19mins 21s | 4mins "
   ]
  },
  {
   "cell_type": "code",
   "execution_count": null,
   "metadata": {},
   "outputs": [],
   "source": []
  }
 ],
 "metadata": {
  "interpreter": {
   "hash": "540d8e3fe5dce4d114b8db95b56ba4a71294e797899f8ee8d8f36e3b24034e00"
  },
  "kernelspec": {
   "display_name": "Python 3.9.7 64-bit ('tensorflow': conda)",
   "language": "python",
   "name": "python3"
  },
  "language_info": {
   "codemirror_mode": {
    "name": "ipython",
    "version": 3
   },
   "file_extension": ".py",
   "mimetype": "text/x-python",
   "name": "python",
   "nbconvert_exporter": "python",
   "pygments_lexer": "ipython3",
   "version": "3.9.7"
  },
  "orig_nbformat": 4
 },
 "nbformat": 4,
 "nbformat_minor": 2
}
